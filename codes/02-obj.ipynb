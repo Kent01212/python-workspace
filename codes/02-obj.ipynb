{
 "cells": [
  {
   "cell_type": "markdown",
   "metadata": {},
   "source": [
    "# Pythonのオブジェクトについて\n",
    "\n",
    "Pythonはすべてオブジェクトです"
   ]
  },
  {
   "cell_type": "code",
   "execution_count": 40,
   "metadata": {},
   "outputs": [
    {
     "data": {
      "text/plain": [
       "140407773270824"
      ]
     },
     "execution_count": 40,
     "metadata": {},
     "output_type": "execute_result"
    }
   ],
   "source": [
    "# 変数が持つのはオブジェクトのIDです\n",
    "x = 1\n",
    "id(x)"
   ]
  },
  {
   "cell_type": "markdown",
   "metadata": {},
   "source": [
    "値が生成されたときにIDが割り付けられ、変数はIDを参照しています"
   ]
  },
  {
   "cell_type": "code",
   "execution_count": 41,
   "metadata": {},
   "outputs": [
    {
     "name": "stdout",
     "output_type": "stream",
     "text": [
      "x: 140407773270824, y: 140407773270856\n",
      "x: 140407773270824, y: 140407773270824\n"
     ]
    }
   ],
   "source": [
    "x = 1\n",
    "y = 2\n",
    "print(f\"x: {id(x)}, y: {id(y)}\")\n",
    "y = 1 # 変更するとIDが変わります\n",
    "print(f\"x: {id(x)}, y: {id(y)}\") # 同じ値なのでIDも同一"
   ]
  },
  {
   "cell_type": "markdown",
   "metadata": {},
   "source": [
    "ただし、生成時に同じものでないとIDは別になります\n",
    "* 同値性: 値の内容が同じ(`==`)\n",
    "* 同一性: 変数の指すIDが同じ(`is`)\n",
    "Python的には同一性の方がチェックが速い(IDわかれば良いだけなので)"
   ]
  },
  {
   "cell_type": "code",
   "execution_count": 42,
   "metadata": {},
   "outputs": [
    {
     "name": "stdout",
     "output_type": "stream",
     "text": [
      "x=>hogeStr y=>hogeStr\n",
      "True, False\n",
      "140407685409184, 140407653665552\n"
     ]
    }
   ],
   "source": [
    "x = \"hogeStr\"\n",
    "y = \"hoge\".__add__(\"Str\")\n",
    "print(f\"x=>{x} y=>{y}\") # 各値を確認\n",
    "print(f\"{x == y}, {x is y}\") # 同値性と同一性を確認\n",
    "print(f\"{id(x)}, {id(y)}\") # 同じ文字だけど代入時の差違により別ID\n"
   ]
  },
  {
   "cell_type": "markdown",
   "metadata": {},
   "source": [
    "* 値(オブジェクト)はオブジェクトの格納領域に入ります\n",
    "* 格納領域に入ったオブジェクトにはIDが割り振られています\n",
    "* 変数名と値の組み合わせが辞書に入っています(=スコープの概念)\n",
    "    * `globals()`と`locals()`\n",
    "    * 関数は独自のスコープを持つ(`locals()`)"
   ]
  },
  {
   "cell_type": "code",
   "execution_count": 43,
   "metadata": {},
   "outputs": [
    {
     "name": "stdout",
     "output_type": "stream",
     "text": [
      "---\n",
      "{'x': 10}\n",
      "---\n",
      "5\n"
     ]
    }
   ],
   "source": [
    "x = 42\n",
    "y = 5\n",
    "\n",
    "def foo(x):\n",
    "    print(\"---\")\n",
    "    print(locals())\n",
    "    print(\"---\")\n",
    "    # locals()にない→globals()から取得(できなければエラー)\n",
    "    print(y)\n",
    "\n",
    "foo(10)"
   ]
  }
 ],
 "metadata": {
  "kernelspec": {
   "display_name": "Python 3",
   "language": "python",
   "name": "python3"
  },
  "language_info": {
   "codemirror_mode": {
    "name": "ipython",
    "version": 3
   },
   "file_extension": ".py",
   "mimetype": "text/x-python",
   "name": "python",
   "nbconvert_exporter": "python",
   "pygments_lexer": "ipython3",
   "version": "3.12.3"
  }
 },
 "nbformat": 4,
 "nbformat_minor": 2
}
