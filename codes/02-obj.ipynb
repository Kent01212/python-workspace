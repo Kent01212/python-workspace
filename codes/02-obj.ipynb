{
 "cells": [
  {
   "cell_type": "markdown",
   "metadata": {},
   "source": [
    "# Pythonのオブジェクトについて\n",
    "\n",
    "Pythonはすべてオブジェクトです"
   ]
  },
  {
   "cell_type": "code",
   "execution_count": null,
   "metadata": {},
   "outputs": [],
   "source": [
    "# 変数が持つのはオブジェクトのIDです\n",
    "x = 1\n",
    "id(x)"
   ]
  },
  {
   "cell_type": "markdown",
   "metadata": {},
   "source": [
    "値はPython実行環境において、オブジェクト管理空間に生成・格納されています。\n",
    "\n",
    "|参照オブジェクトID|オブジェクト|\n",
    "|---|---|\n",
    "|0x12345678|int(1)|\n",
    "|0x23456789|str('abc')|\n",
    "\n",
    "変数はオブジェクトへの参照を持っています。\n",
    "\n",
    "|変数名|参照オブジェクトID|\n",
    "|---|---|\n",
    "|a|0x12345678|\n",
    "|b|0x23456789|\n",
    "\n",
    "変数名とオブジェクトIDのテーブル → シンボルテーブル\n",
    "\n",
    "* オブジェクト格納領域は実行環境内では**グローバルに**確保されています <-- 超重要※1\n",
    "* 変数名と参照オブジェクトIDの対応は実行環境内のシンボルテーブルで管理されています\n",
    "    * シンボルテーブルはコード内でシンボルが登場したときに参照されます\n",
    "        * 作成する時は既存の名前がないかを確認し、オブジェクト作成→ID取得→シンボルテーブルに登録\n",
    "        * 参照するときはシンボルテーブル内に名前が有るかを確認してIDを取得する\n",
    "    * 参照し、シンボルテーブル上に名前がない時は「未定義のシンボル」としてエラーになる\n",
    "* シンボルテーブルへのマッピングはPythonのランタイム起動時から行われている\n",
    "    * 標準的に利用可能な関数(printとか)も登録\n",
    "    * よく使う(と考えられている)数値(整数)も登録\n",
    "    * 予約語以外のものは全てテーブルにある\n",
    "        * 悪く使うと <del>書き換える</del>置き換えることすらできる"
   ]
  },
  {
   "cell_type": "markdown",
   "metadata": {},
   "source": []
  },
  {
   "cell_type": "code",
   "execution_count": null,
   "metadata": {},
   "outputs": [],
   "source": [
    "x = 1\n",
    "y = 2\n",
    "print(f\"x: {id(x)}, y: {id(y)}\")\n",
    "y = 1 # 変更するとIDが変わります\n",
    "print(f\"x: {id(x)}, y: {id(y)}\") # 同じ値なのでIDも同一\n",
    "\n",
    "# リストはリスト自体がIDを持ちます\n",
    "x = [\"foo\", \"bar\", \"baz\"]\n",
    "print(f\"x: {id(x)}\")\n",
    "print(f\"x[0]: {id(x[0])}\")\n",
    "print(f\"'foo': {id('foo')}\")"
   ]
  },
  {
   "cell_type": "markdown",
   "metadata": {},
   "source": [
    "ただし、生成時に同じものでないとIDは別になります\n",
    "* 同値性: 値の内容が同じ(`==`)\n",
    "* 同一性: 変数の指すIDが同じ(`is`)\n",
    "Python的には同一性の方がチェックが速い(IDわかれば良いだけなので)"
   ]
  },
  {
   "cell_type": "code",
   "execution_count": null,
   "metadata": {},
   "outputs": [],
   "source": [
    "x = \"hogeStr\"\n",
    "y = \"hoge\".__add__(\"Str\")\n",
    "print(f\"x=>{x} y=>{y}\") # 各値を確認\n",
    "print(f\"{x == y}, {x is y}\") # 同値性と同一性を確認\n",
    "print(f\"{id(x)}, {id(y)}\") # 同じ文字だけど代入時の差違により別ID\n"
   ]
  },
  {
   "cell_type": "markdown",
   "metadata": {},
   "source": [
    "* シンボルテーブルに入っている内容は`globals()`で参照可能\n",
    "* 組み込み関数は `__builtins__` モジュールに入っている\n",
    "    `print`の実体は`__builtins__.print`"
   ]
  },
  {
   "cell_type": "code",
   "execution_count": null,
   "metadata": {},
   "outputs": [],
   "source": [
    "# globals()の中身を確認\n",
    "for k, v in globals().items():\n",
    "    print(f\"{k} => {v}\")"
   ]
  },
  {
   "cell_type": "code",
   "execution_count": null,
   "metadata": {},
   "outputs": [],
   "source": [
    "# __builtins__の中身も確認\n",
    "print(dir(__builtins__))"
   ]
  },
  {
   "cell_type": "code",
   "execution_count": null,
   "metadata": {},
   "outputs": [],
   "source": [
    "# このことからIDを奪えば別の名前で関数を呼べるし\n",
    "backup_print = print\n",
    "backup_print(\"fugahoge\")\n",
    "\n",
    "# うっかりリスト作成を破壊するようなこともできます\n",
    "list = __builtins__.list # 繰り返し実行用\n",
    "backup_list = list\n",
    "\n",
    "x = list((1,2,3))\n",
    "print(x)\n",
    "list = [3,4,5]\n",
    "print(list)\n",
    "#  y = list((1,2,3)) # ここでエラーが発生します\n"
   ]
  },
  {
   "cell_type": "markdown",
   "metadata": {},
   "source": [
    "関数(`def`)は、内部的なスコープを作成し、globalスコープと別のスコープを持ちます。\n",
    "* localスコープ\n",
    "    * `locals()`で参照可能\n",
    "* ローカルスコープ内の変数は関数内でのみ有効\n",
    "    * シンボル名がグローバルと被った場合もローカル側が優先される(local->global)\n",
    "* global宣言をすることで、グローバルスコープの変数を参照できる"
   ]
  },
  {
   "cell_type": "code",
   "execution_count": null,
   "metadata": {},
   "outputs": [],
   "source": [
    "x = 42\n",
    "y = 5\n",
    "\n",
    "def foo(x):\n",
    "    print(\"---\")\n",
    "    print(locals())\n",
    "    print(\"---\")\n",
    "    # locals()にない→globals()から取得(できなければエラー)\n",
    "    print(y)\n",
    "\n",
    "foo(10)"
   ]
  },
  {
   "cell_type": "markdown",
   "metadata": {},
   "source": [
    "関数の戻り値はどうなるのか?\n",
    "* 関数内で生成されたオブジェクトは、関数のスコープが終了すると消滅します\n",
    "* 関数の戻り値は、その関数内で生成されたオブジェクトのIDを返します\n",
    "* オブジェクトのID自体はグローバルで管理されているのでシンボルとのつながりは消えても参照は可能 → ※1"
   ]
  },
  {
   "cell_type": "code",
   "execution_count": null,
   "metadata": {},
   "outputs": [],
   "source": [
    "def foo():\n",
    "    ret = 42\n",
    "    print(f\"id(ret) = {id(ret)} in foo()\")\n",
    "    return ret\n",
    "\n",
    "x = foo()\n",
    "print(f\"id(x) = {id(x)} in main()\")"
   ]
  },
  {
   "cell_type": "markdown",
   "metadata": {},
   "source": [
    "この辺りを理解していると、Pythonの挙動を後から差し替える邪悪な行為が可能だし、関数も所詮はID管理なので値として返せてしまいます(ファーストクラスオブジェクト)"
   ]
  },
  {
   "cell_type": "code",
   "execution_count": null,
   "metadata": {},
   "outputs": [],
   "source": [
    "def foo():\n",
    "    def inner(): # 内部関数\n",
    "        print(\"inner\")\n",
    "    return inner\n",
    "\n",
    "x = foo()\n",
    "x() # inner"
   ]
  },
  {
   "cell_type": "markdown",
   "metadata": {},
   "source": [
    "この仕組みを理解すると、Pythonのスコープの理解が進むと同時に、\n",
    "既存の関数の前後に処理を追加するという邪悪な行為が可能になります(デコレータの原理)。"
   ]
  },
  {
   "cell_type": "code",
   "execution_count": null,
   "metadata": {},
   "outputs": [],
   "source": [
    "# 既存の関数をラップする形で関数呼び出しの前にメッセージを追加する例\n",
    "\n",
    "def before(function):\n",
    "    outer = __builtins__.print\n",
    "    if function.__name__ == 'wrapper': # 二重ラップ防止策\n",
    "        return function\n",
    "    # ラップする関数を定義\n",
    "    def wrapper(*args, **kwargs):\n",
    "        outer(f\"{function.__name__}が呼ばれました\")\n",
    "        return function(*args, **kwargs)\n",
    "    return wrapper\n",
    "\n",
    "print = before(print)\n",
    "print(\"hoge\")"
   ]
  }
 ],
 "metadata": {
  "kernelspec": {
   "display_name": "Python 3",
   "language": "python",
   "name": "python3"
  },
  "language_info": {
   "codemirror_mode": {
    "name": "ipython",
    "version": 3
   },
   "file_extension": ".py",
   "mimetype": "text/x-python",
   "name": "python",
   "nbconvert_exporter": "python",
   "pygments_lexer": "ipython3",
   "version": "3.12.3"
  }
 },
 "nbformat": 4,
 "nbformat_minor": 2
}
