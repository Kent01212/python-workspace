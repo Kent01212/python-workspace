{
 "cells": [
  {
   "cell_type": "markdown",
   "metadata": {},
   "source": [
    "# タプルについて\n",
    "\n",
    "タプル(tuple)は値の組み合わせです"
   ]
  },
  {
   "cell_type": "code",
   "execution_count": 1,
   "metadata": {},
   "outputs": [
    {
     "name": "stdout",
     "output_type": "stream",
     "text": [
      "<class 'tuple'>\n"
     ]
    }
   ],
   "source": [
    "tuple = (0,1,2)\n",
    "print(type(tuple))"
   ]
  },
  {
   "cell_type": "markdown",
   "metadata": {},
   "source": [
    "タプルの要素はリスト同様に取得できます\n",
    "(添字アクセス)"
   ]
  },
  {
   "cell_type": "code",
   "execution_count": 2,
   "metadata": {},
   "outputs": [
    {
     "name": "stdout",
     "output_type": "stream",
     "text": [
      "<class 'tuple'>\n",
      "0\n"
     ]
    }
   ],
   "source": [
    "# タプルのサンプル\n",
    "tuple = (0,1,2)\n",
    "print(type(tuple))\n",
    "\n",
    "# タプルの要素を取得\n",
    "print(tuple[0]) # リスト同様0〜のアクセス\n"
   ]
  },
  {
   "cell_type": "markdown",
   "metadata": {},
   "source": [
    "タプルの値は変更できません\n",
    "これはタプルは静的に構築される(性質にしている)からです"
   ]
  },
  {
   "cell_type": "code",
   "execution_count": 5,
   "metadata": {},
   "outputs": [],
   "source": [
    "# タプルのサンプル\n",
    "tuple = (0,1,2)\n",
    "\n",
    "# 値の書き換え(NG)\n",
    "# tuple[0] = 100 #コメント外して実行でエラー\n"
   ]
  },
  {
   "cell_type": "markdown",
   "metadata": {},
   "source": [
    "抜け穴が無いわけでも無い\n",
    "リストを持ち込んで書き換えるとか"
   ]
  },
  {
   "cell_type": "code",
   "execution_count": 7,
   "metadata": {},
   "outputs": [
    {
     "name": "stdout",
     "output_type": "stream",
     "text": [
      "before: (0, [0, 1, 2], 2)\n",
      "after : (0, [0, 1, 2, 100], 2)\n"
     ]
    }
   ],
   "source": [
    "# タプルのサンプル\n",
    "list_a = [0,1,2]\n",
    "tuple = (0,list_a,2)\n",
    "\n",
    "# 抜け穴\n",
    "print(f\"before: {tuple}\")\n",
    "tuple[1].append(100)\n",
    "print(f\"after : {tuple}\")\n"
   ]
  },
  {
   "cell_type": "markdown",
   "metadata": {},
   "source": [
    "タプルの値は変数に代入することができます\n",
    "(複数の変数に代入することもできます)"
   ]
  },
  {
   "cell_type": "code",
   "execution_count": 8,
   "metadata": {},
   "outputs": [
    {
     "name": "stdout",
     "output_type": "stream",
     "text": [
      "2\n",
      "0\n"
     ]
    }
   ],
   "source": [
    "# タプルのサンプル\n",
    "tuple = (0,1,2)\n",
    "\n",
    "# タプルの中身を取り出す\n",
    "(a, b, c) = tuple\n",
    "print(c)\n",
    "\n",
    "# いらない所はアンダースコアで受け取ると良い\n",
    "(a, _, _) = tuple\n",
    "print(a)\n"
   ]
  },
  {
   "cell_type": "markdown",
   "metadata": {},
   "source": [
    "関数の戻り値が多値返却できるのは、それらを暗黙でタプルにしているからだったりします\n",
    "\n",
    "前述の技とあわせれば、変数でキャッチもできます。\n",
    "* 単一変数で受け取ればタプルで受け取れる\n",
    "* 複数の変数であれば各要素を受け取れるけど、数側無いとエラーになります"
   ]
  },
  {
   "cell_type": "code",
   "execution_count": 11,
   "metadata": {},
   "outputs": [
    {
     "name": "stdout",
     "output_type": "stream",
     "text": [
      "<class 'tuple'>\n",
      "(0, 1, 2)\n"
     ]
    },
    {
     "ename": "ValueError",
     "evalue": "too many values to unpack (expected 2)",
     "output_type": "error",
     "traceback": [
      "\u001b[0;31m---------------------------------------------------------------------------\u001b[0m",
      "\u001b[0;31mValueError\u001b[0m                                Traceback (most recent call last)",
      "Cell \u001b[0;32mIn[11], line 7\u001b[0m\n\u001b[1;32m      5\u001b[0m \u001b[38;5;28mprint\u001b[39m(\u001b[38;5;28mtype\u001b[39m(x))\n\u001b[1;32m      6\u001b[0m \u001b[38;5;28mprint\u001b[39m(x)\n\u001b[0;32m----> 7\u001b[0m x,y \u001b[38;5;241m=\u001b[39m multi_return() \u001b[38;5;66;03m# 戻りの数と合わない受け取りはエラー\u001b[39;00m\n\u001b[1;32m      8\u001b[0m \u001b[38;5;28mprint\u001b[39m(x)\n\u001b[1;32m      9\u001b[0m \u001b[38;5;28mprint\u001b[39m(y)\n",
      "\u001b[0;31mValueError\u001b[0m: too many values to unpack (expected 2)"
     ]
    }
   ],
   "source": [
    "def multi_return():\n",
    "    return 0, 1, 2 # 括弧が無くてもよい!\n",
    "\n",
    "x = multi_return()\n",
    "print(type(x))\n",
    "print(x)\n",
    "# x,y = multi_return() # 戻りの数と合わない受け取りはエラー\n",
    "# print(x)\n",
    "# print(y)\n"
   ]
  }
 ],
 "metadata": {
  "kernelspec": {
   "display_name": "Python 3",
   "language": "python",
   "name": "python3"
  },
  "language_info": {
   "codemirror_mode": {
    "name": "ipython",
    "version": 3
   },
   "file_extension": ".py",
   "mimetype": "text/x-python",
   "name": "python",
   "nbconvert_exporter": "python",
   "pygments_lexer": "ipython3",
   "version": "3.undefined.undefined"
  }
 },
 "nbformat": 4,
 "nbformat_minor": 2
}
