{
 "cells": [
  {
   "cell_type": "markdown",
   "metadata": {},
   "source": [
    "# タプルについて\n",
    "\n",
    "タプル(tuple)は値の組み合わせです"
   ]
  },
  {
   "cell_type": "code",
   "execution_count": null,
   "metadata": {},
   "outputs": [],
   "source": [
    "tuple = (0,1,2)\n",
    "print(type(tuple))"
   ]
  },
  {
   "cell_type": "markdown",
   "metadata": {},
   "source": [
    "タプルの要素はリスト同様に取得できます\n",
    "(添字アクセス)"
   ]
  },
  {
   "cell_type": "code",
   "execution_count": null,
   "metadata": {},
   "outputs": [],
   "source": [
    "# タプルのサンプル\n",
    "tuple = (0,1,2)\n",
    "print(type(tuple))\n",
    "\n",
    "# タプルの要素を取得\n",
    "print(tuple[0]) # リスト同様0〜のアクセス\n"
   ]
  },
  {
   "cell_type": "markdown",
   "metadata": {},
   "source": [
    "タプルの値は変更できません\n",
    "これはタプルは静的に構築される(性質にしている)からです"
   ]
  },
  {
   "cell_type": "code",
   "execution_count": 3,
   "metadata": {},
   "outputs": [],
   "source": [
    "# タプルのサンプル\n",
    "tuple = (0,1,2)\n",
    "\n",
    "# 値の書き換え(NG)\n",
    "# tuple[0] = 100 #コメント外して実行でエラー\n"
   ]
  },
  {
   "cell_type": "markdown",
   "metadata": {},
   "source": [
    "抜け穴が無いわけでも無い\n",
    "リストを持ち込んで書き換えるとか"
   ]
  },
  {
   "cell_type": "code",
   "execution_count": null,
   "metadata": {},
   "outputs": [],
   "source": [
    "# タプルのサンプル\n",
    "list_a = [0,1,2]\n",
    "tuple = (0,list_a,2)\n",
    "\n",
    "# 抜け穴\n",
    "print(f\"before: {tuple}\")\n",
    "tuple[1].append(100)\n",
    "print(f\"after : {tuple}\")\n"
   ]
  },
  {
   "cell_type": "markdown",
   "metadata": {},
   "source": [
    "タプルの値は変数に代入することができます\n",
    "(複数の変数に代入することもできます)"
   ]
  },
  {
   "cell_type": "code",
   "execution_count": null,
   "metadata": {},
   "outputs": [],
   "source": [
    "# タプルのサンプル\n",
    "tuple = (0,1,2)\n",
    "\n",
    "# タプルの中身を取り出す\n",
    "(a, b, c) = tuple\n",
    "print(c)\n",
    "\n",
    "# いらない所はアンダースコアで受け取ると良い\n",
    "(a, _, _) = tuple\n",
    "print(a)\n"
   ]
  },
  {
   "cell_type": "markdown",
   "metadata": {},
   "source": [
    "関数の戻り値が多値返却できるのは、それらを暗黙でタプルにしているからだったりします\n",
    "\n",
    "前述の技とあわせれば、変数でキャッチもできます。\n",
    "* 単一変数で受け取ればタプルで受け取れる\n",
    "* 複数の変数であれば各要素を受け取れるけど、数側無いとエラーになります"
   ]
  },
  {
   "cell_type": "code",
   "execution_count": null,
   "metadata": {},
   "outputs": [],
   "source": [
    "def multi_return():\n",
    "    return 0, 1, 2 # 括弧が無くてもよい!\n",
    "\n",
    "x = multi_return()\n",
    "print(type(x))\n",
    "print(x)\n",
    "# x,y = multi_return() # 戻りの数と合わない受け取りはエラー\n",
    "# print(x)\n",
    "# print(y)\n"
   ]
  }
 ],
 "metadata": {
  "kernelspec": {
   "display_name": "Python 3",
   "language": "python",
   "name": "python3"
  },
  "language_info": {
   "codemirror_mode": {
    "name": "ipython",
    "version": 3
   },
   "file_extension": ".py",
   "mimetype": "text/x-python",
   "name": "python",
   "nbconvert_exporter": "python",
   "pygments_lexer": "ipython3",
   "version": "3.12.3"
  }
 },
 "nbformat": 4,
 "nbformat_minor": 2
}
